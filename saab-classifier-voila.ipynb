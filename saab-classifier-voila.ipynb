{
 "cells": [
  {
   "cell_type": "markdown",
   "metadata": {},
   "source": [
    "# Saab Car Classifier\n",
    "<strong>Do you know the former Swedish car manufacturer __*Saab*__?</strong>\n",
    "<img src=\"https://upload.wikimedia.org/wikipedia/de/thumb/0/00/Logo_Saab.svg/500px-Logo_Saab.svg.png\" />"
   ]
  },
  {
   "cell_type": "code",
   "execution_count": 10,
   "metadata": {},
   "outputs": [],
   "source": [
    "from fastai2.vision.all import *\n",
    "from fastai2.vision.widgets import *"
   ]
  },
  {
   "cell_type": "code",
   "execution_count": 11,
   "metadata": {},
   "outputs": [],
   "source": [
    "path = Path()"
   ]
  },
  {
   "cell_type": "code",
   "execution_count": 12,
   "metadata": {},
   "outputs": [],
   "source": [
    "learn_inference = load_learner('saab-classifier.pkl')"
   ]
  },
  {
   "cell_type": "code",
   "execution_count": 15,
   "metadata": {},
   "outputs": [
    {
     "data": {
      "application/vnd.jupyter.widget-view+json": {
       "model_id": "a55d5dfd1b7b4b3ab367915f5f7f8bcb",
       "version_major": 2,
       "version_minor": 0
      },
      "text/plain": [
       "VBox(children=(Label(value='Select your favourite Saab!'), FileUpload(value={}, description='Upload'), Button(…"
      ]
     },
     "metadata": {},
     "output_type": "display_data"
    }
   ],
   "source": [
    "lbl_pred = widgets.Label()\n",
    "btn_run = widgets.Button(description='Classify')\n",
    "out_pl = widgets.Output()\n",
    "out_pl.clear_output()\n",
    "\n",
    "def on_click_classify(change):\n",
    "    img = PILImage.create(btn_upload.data[-1])\n",
    "    out_pl.clear_output()\n",
    "    with out_pl: display(img.to_thumb(128,128))\n",
    "    pred,pred_idx,probs = learn_inference.predict(img)\n",
    "    lbl_pred.value = f'Prediction: {pred}; Probability: {probs[pred_idx]:.04f}'\n",
    "\n",
    "btn_run.on_click(on_click_classify)\n",
    "btn_upload = widgets.FileUpload()\n",
    "VBox([widgets.Label('Select your favourite Saab!'), \n",
    "      btn_upload, btn_run, out_pl, lbl_pred])"
   ]
  },
  {
   "cell_type": "markdown",
   "metadata": {},
   "source": [
    "# Some of the wonderful Cars made by Saab\n",
    "<table>\n",
    "    <tr>\n",
    "        <td><img src=\"https://upload.wikimedia.org/wikipedia/commons/thumb/5/55/Saab_9-3_front_20071019.jpg/500px-Saab_9-3_front_20071019.jpg\" style=\"width:200px\"/></td>\n",
    "        <td><img src=\"https://upload.wikimedia.org/wikipedia/commons/e/ea/Saab-900-Turbo.jpg\" style=\"width:200px\" /></td>\n",
    "        <td><img src=\"https://upload.wikimedia.org/wikipedia/commons/8/8c/Saab_9-3_front_20081126.jpg\" style=\"width:200px\" /></td>        \n",
    "    <tr>\n",
    "        <td><img src=\"https://upload.wikimedia.org/wikipedia/commons/thumb/6/64/Saab_9-5_I_SE_1998_front.JPG/2880px-Saab_9-5_I_SE_1998_front.JPG\" style=\"width:200px\"/></td>\n",
    "        <td><img src=\"https://upload.wikimedia.org/wikipedia/commons/thumb/7/73/1990_Saab_9000_CD_non-turbo.jpg/2880px-1990_Saab_9000_CD_non-turbo.jpg\" style=\"width:200px\"/></td>\n",
    "        <td><img src=\"https://upload.wikimedia.org/wikipedia/commons/1/1f/Saab_9-5_2.0_TiD_Vector_%28II%29_%E2%80%93_Frontansicht%2C_13._M%C3%A4rz_2011%2C_Wuppertal.jpg\" style=\"width:200px\"/></td>\n",
    "    </tr>\n",
    "</table>\n",
    "\n",
    "# This project is capable of classifying these models:\n",
    "\n",
    "* __Saab 900__\n",
    "* __Saab 9000__\n",
    "* __Saab 9-3__\n",
    "* __Saab 9-5__\n",
    "\n",
    "I have build this application with Jupyter Notebooks and Voila. The deep learning framework underneath is fastai. \n",
    "\n",
    "# Voila and Jupyter Notebooks\n",
    "\n",
    "Voila is a very simple framework to convert any Jupyter Notebook with iwidgets into a full-functional web-application. You can run voilà locally if you install the ```voila``` module and enable the jupyer server-extension:\n",
    "```python\n",
    "!pip install voila\n",
    "!jupyter serverextension enable voila --sys-prefix\n",
    "```\n",
    "\n",
    "The easiest way to publish your voilà notebook is to use [binder](https://mybinder.org/).\n",
    "\n",
    "If you would like to check out the code have a look at the project's repository at github: [https://github.com/we-make-ai/saab-model-classifier](https://github.com/we-make-ai/saab-model-classifier)\n",
    "\n",
    "**Now enjoy the show!**\n",
    "\n",
    "<strong>Brought to you by <a href=\"https://www.we-make.ai\" alt=\"we-make-ai - artificial intelligence consultants\">we-make.ai</a>\n",
    "    </strong>\n",
    "<a href=\"https://www.we-make.ai\" alt=\"we-make-ai - artificial intelligence consultants\"><img src=\"https://we-make.ai/img/we-make-ai.png\" alt=\"logo we-make-ai\" /></a>\n",
    "\n",
    "# The we-make-ai Book on Artificial Intelligence from a Business Perspective\n",
    "<strong>...available on amazon! </strong>\n",
    "<a href=\"https://www.amazon.de/Die-KI-Revolution-Unternehmen-Leitfaden-F%C3%BChrungskr%C3%A4fte-ebook/dp/B07RY2SXTM/ref=as_sl_pc_as_ss_li_til?tag=weiteblog-21&linkCode=w00&linkId=e3f6bfbd152c167c07f802d11e310c88&creativeASIN=B07RY2SXTM\"><img src=\"https://www.kuenstliche-intelligenz-in-a-nutshell.at/images/index-84c9d1a4.webp\" alt=\"cover of artificial intelligence book\" style=\"width:200px\"/></a>\n",
    "\n",
    "Sources:\n",
    "* [fastai](http://www.fastai.com)\n",
    "* [voila](https://voila.readthedocs.io)\n",
    "\n",
    "-------------"
   ]
  },
  {
   "cell_type": "code",
   "execution_count": null,
   "metadata": {},
   "outputs": [],
   "source": []
  }
 ],
 "metadata": {
  "kernelspec": {
   "display_name": "Python 3",
   "language": "python",
   "name": "python3"
  },
  "language_info": {
   "codemirror_mode": {
    "name": "ipython",
    "version": 3
   },
   "file_extension": ".py",
   "mimetype": "text/x-python",
   "name": "python",
   "nbconvert_exporter": "python",
   "pygments_lexer": "ipython3",
   "version": "3.7.7"
  },
  "toc": {
   "base_numbering": 1,
   "nav_menu": {},
   "number_sections": true,
   "sideBar": true,
   "skip_h1_title": false,
   "title_cell": "Table of Contents",
   "title_sidebar": "Contents",
   "toc_cell": false,
   "toc_position": {},
   "toc_section_display": true,
   "toc_window_display": false
  },
  "varInspector": {
   "cols": {
    "lenName": 16,
    "lenType": 16,
    "lenVar": 40
   },
   "kernels_config": {
    "python": {
     "delete_cmd_postfix": "",
     "delete_cmd_prefix": "del ",
     "library": "var_list.py",
     "varRefreshCmd": "print(var_dic_list())"
    },
    "r": {
     "delete_cmd_postfix": ") ",
     "delete_cmd_prefix": "rm(",
     "library": "var_list.r",
     "varRefreshCmd": "cat(var_dic_list()) "
    }
   },
   "types_to_exclude": [
    "module",
    "function",
    "builtin_function_or_method",
    "instance",
    "_Feature"
   ],
   "window_display": false
  }
 },
 "nbformat": 4,
 "nbformat_minor": 4
}
